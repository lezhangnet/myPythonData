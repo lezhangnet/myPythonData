{
 "cells": [
  {
   "cell_type": "code",
   "execution_count": null,
   "metadata": {},
   "outputs": [],
   "source": [
    "# source: https://www.manning.com/liveproject/how-to-think-about-manipulating-data\n",
    "\n",
    "import pandas as pd\n",
    "\n",
    "# 1. Reading in and Cleaning the Data\n",
    "url=\"https://en.wikipedia.org/wiki/NBA_All-Star_Game\"\n",
    "table = pd.read_html(url,header=0,index_col=0,parse_dates=True)\n",
    "print(type(table)) # <class 'list'> # array of DataFrame\n",
    "print(len(table)) # 16\n",
    "print(type(table[2])) # <class 'pandas.core.frame.DataFrame'> # table[2] is already a DataFrame\n",
    "print(table[2].shape) # (74, 4)\n",
    "df = table[2].dropna(how='any')\n",
    "print(df.shape) # (71, 4) # 1951 - 2021; the last three rows (2022 2023 2024) are dropped because there are empty cells\n",
    "df"
   ]
  },
  {
   "cell_type": "code",
   "execution_count": null,
   "metadata": {},
   "outputs": [],
   "source": [
    "# 2. Keeping Only Data of Interest\n",
    "def parse_east(line):\n",
    "    parts = line.split(\",\")\n",
    "    parts0 = parts[0].split()\n",
    "    parts1 = parts[1].split()\n",
    "    if parts0[0].lower() == \"east\":\n",
    "        return int(parts0[1])\n",
    "    elif parts1[0].lower() == \"east\":\n",
    "        return int(parts1[1])\n",
    "\n",
    "def parse_west(line):\n",
    "    parts = line.split(\",\")\n",
    "    parts0 = parts[0].split()\n",
    "    parts1 = parts[1].split()\n",
    "    if parts0[0].lower() == \"west\":\n",
    "        return int(parts0[1])\n",
    "    elif parts1[0].lower() == \"west\":\n",
    "        return int(parts1[1])\n",
    "\n",
    "df_east = df.loc[:,\"Result\"] # pick a column\n",
    "df_east = df_east.apply(parse_east) # transform every cell\n",
    "df_west = df.loc[:,\"Result\"]\n",
    "df_west = df_west.apply(parse_west)\n",
    "del(df[\"Result\"]) # delete a column\n",
    "del(df[\"Host arena\"])\n",
    "del(df[\"Game MVP\"])\n",
    "df.insert(0,\"West\",df_west) # add a column\n",
    "df.insert(0,\"East\",df_east)\n",
    "# df = df.rename(index=lambda s: s.split(\"[\")[0]) # not useful?\n",
    "df = df.dropna(how='any') # 5 rows dropped: 2018 - 2021 with names not like \"east\" \"west\"; 1999 with canceled info\n",
    "df[\"Host city\"] = df[\"Host city\"].apply(lambda s: s.strip().split(\",\")[0])\n",
    "df # 66 x 3"
   ]
  },
  {
   "cell_type": "code",
   "execution_count": null,
   "metadata": {},
   "outputs": [],
   "source": [
    "# 3. Getting counts\n",
    "df['Diff'] = abs(df['East'] - df['West']) # calculating and adding a \"Diff\" column at the same time\n",
    "df.to_csv(\"nba.csv\")\n",
    "\n",
    "dfd = df.groupby('Diff').size().sort_values(ascending=False)\n",
    "# print(dfd) # 5.0 - 7; ... 43.0 - 1 # count of each diff # not used anywhere else\n",
    "\n",
    "## question 1. What is the maximum and minimum score difference between all games?\n",
    "maxdiff = max(df[\"Diff\"])\n",
    "print(\"Max difference:\" + str(maxdiff))\n",
    "print(df.loc[df[\"Diff\"] == maxdiff]) # filtering rows on condition\n",
    "mindiff = min(df[\"Diff\"])\n",
    "print()\n",
    "print(\"Min difference:\" + str(mindiff))\n",
    "print(df.loc[df[\"Diff\"] == mindiff])\n",
    "print()\n",
    "dfd"
   ]
  },
  {
   "cell_type": "code",
   "execution_count": null,
   "metadata": {},
   "outputs": [],
   "source": [
    "# 4. Filtering and Grouping Data\n",
    "dfg = df.groupby('Host city').mean() # mean() = average\n",
    "# print(dfg) # Host city (index) / East / West / Diff\n",
    "size = df.groupby('Host city').size()\n",
    "dfg[\"Count\"] = size # adding a \"Count\" column to the DF\n",
    "dfg = dfg.sort_values('Count')\n",
    "dfg = dfg[dfg['Count'] > 1]\n",
    "\n",
    "## question 2. If a city hosted a game more than once, what was the average score \n",
    "## for the Eastern Conference team and the Western Conference team? \n",
    "print(\"Cities who hosted the game more than once:\")\n",
    "dfg"
   ]
  },
  {
   "cell_type": "code",
   "execution_count": null,
   "metadata": {},
   "outputs": [],
   "source": [
    "# end"
   ]
  }
 ],
 "metadata": {
  "interpreter": {
   "hash": "4c4174184f7e6f73f0cf5c87a98730f98e60f93507f7c19fbff6a25591a01d59"
  },
  "kernelspec": {
   "display_name": "Python 3.8.5 64-bit ('base': conda)",
   "name": "python3"
  },
  "language_info": {
   "codemirror_mode": {
    "name": "ipython",
    "version": 3
   },
   "file_extension": ".py",
   "mimetype": "text/x-python",
   "name": "python",
   "nbconvert_exporter": "python",
   "pygments_lexer": "ipython3",
   "version": "3.8.5"
  }
 },
 "nbformat": 4,
 "nbformat_minor": 4
}
